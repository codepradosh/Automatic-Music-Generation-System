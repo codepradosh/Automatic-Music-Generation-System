{
 "cells": [
  {
   "cell_type": "code",
   "execution_count": 1,
   "metadata": {},
   "outputs": [
    {
     "name": "stderr",
     "output_type": "stream",
     "text": [
      "C:\\Users\\GauravP\\Anaconda3\\lib\\site-packages\\h5py\\__init__.py:36: FutureWarning: Conversion of the second argument of issubdtype from `float` to `np.floating` is deprecated. In future, it will be treated as `np.float64 == np.dtype(float).type`.\n",
      "  from ._conv import register_converters as _register_converters\n",
      "Using TensorFlow backend.\n"
     ]
    }
   ],
   "source": [
    "import os\n",
    "import json\n",
    "import numpy as np\n",
    "import pandas as pd\n",
    "from keras.models import Sequential\n",
    "from keras.layers import LSTM, Dropout, Dense, Activation, Embedding"
   ]
  },
  {
   "cell_type": "code",
   "execution_count": 2,
   "metadata": {},
   "outputs": [],
   "source": [
    "data_directory = \"../Data2/\"\n",
    "data_file = \"Data_Tunes.txt\"\n",
    "charIndex_json = \"char_to_index.json\"\n",
    "model_weights_directory = '../Data2/Model_Weights/'\n",
    "BATCH_SIZE = 16\n",
    "SEQ_LENGTH = 64"
   ]
  },
  {
   "cell_type": "code",
   "execution_count": 3,
   "metadata": {},
   "outputs": [],
   "source": [
    "def make_model(unique_chars):\n",
    "    model = Sequential()\n",
    "    \n",
    "    model.add(Embedding(input_dim = unique_chars, output_dim = 512, batch_input_shape = (1, 1))) \n",
    "  \n",
    "    model.add(LSTM(256, return_sequences = True, stateful = True))\n",
    "    model.add(Dropout(0.2))\n",
    "    \n",
    "    model.add(LSTM(256, return_sequences = True, stateful = True))\n",
    "    model.add(Dropout(0.2))\n",
    "    \n",
    "    model.add(LSTM(256, stateful = True)) \n",
    "    #remember, that here we haven't given return_sequences = True because here we will give only one character to generate the\n",
    "    #sequence. In the end, we just have to get one output which is equivalent to getting output at the last time-stamp. So, here\n",
    "    #in last layer there is no need of giving return sequences = True.\n",
    "    model.add(Dropout(0.2))\n",
    "    \n",
    "    model.add((Dense(unique_chars)))\n",
    "    model.add(Activation(\"softmax\"))\n",
    "    \n",
    "    return model"
   ]
  },
  {
   "cell_type": "code",
   "execution_count": 14,
   "metadata": {},
   "outputs": [],
   "source": [
    "def generate_sequence(epoch_num, initial_index, seq_length):\n",
    "    with open(os.path.join(data_directory, charIndex_json)) as f:\n",
    "        char_to_index = json.load(f)\n",
    "    index_to_char = {i:ch for ch, i in char_to_index.items()}\n",
    "    unique_chars = len(index_to_char)\n",
    "    \n",
    "    model = make_model(unique_chars)\n",
    "    model.load_weights(model_weights_directory + \"Weights_{}.h5\".format(epoch_num))\n",
    "     \n",
    "    sequence_index = [initial_index]\n",
    "    \n",
    "    for _ in range(seq_length):\n",
    "        batch = np.zeros((1, 1))\n",
    "        batch[0, 0] = sequence_index[-1]\n",
    "        \n",
    "        predicted_probs = model.predict_on_batch(batch).ravel()\n",
    "        sample = np.random.choice(range(unique_chars), size = 1, p = predicted_probs)\n",
    "        \n",
    "        sequence_index.append(sample[0])\n",
    "    \n",
    "    seq = ''.join(index_to_char[c] for c in sequence_index)\n",
    "    \n",
    "    cnt = 0\n",
    "    for i in seq:\n",
    "        cnt += 1\n",
    "        if i == \"\\n\":\n",
    "            break\n",
    "    seq1 = seq[cnt:]\n",
    "    #above code is for ignoring the starting string of a generated sequence. This is because we are passing any arbitrary \n",
    "    #character to the model for generating music. Now, the model start generating sequence from that character itself which we \n",
    "    #have passed, so first few characters before \"\\n\" contains meaningless word. Model start generating the music rhythm from\n",
    "    #next line onwards. The correct sequence it start generating from next line onwards which we are considering.\n",
    "    \n",
    "    cnt = 0\n",
    "    for i in seq1:\n",
    "        cnt += 1\n",
    "        if i == \"\\n\" and seq1[cnt] == \"\\n\":\n",
    "            break\n",
    "    seq2 = seq1[:cnt]\n",
    "    #Now our data contains three newline characters after every tune. So, the model has leart that too. So, above code is used for\n",
    "    #ignoring all the characters that model has generated after three new line characters. So, here we are considering only one\n",
    "    #tune of music at a time and finally we are returning it..\n",
    "    \n",
    "    return seq2"
   ]
  },
  {
   "cell_type": "code",
   "execution_count": 23,
   "metadata": {
    "scrolled": false
   },
   "outputs": [
    {
     "name": "stdout",
     "output_type": "stream",
     "text": [
      "1. Which epoch number weight you want to load into the model(10, 20, 30, ..., 90). Small number will generate more errors in music: 90\n",
      "\n",
      "2. Enter any number between 0 to 86 which will be given as initial charcter to model for generating sequence: 25\n",
      "\n",
      "3. Enter the length of music sequence you want to generate. Typical number is between 300-600. Too small number will generate hardly generate any sequence: 450\n",
      "\n",
      "MUSIC SEQUENCE GENERATED: \n",
      "\n",
      "\"(37)\"E2E D2)|\"Am\"E2c \"G7\"B=GB|\"Am\"D2c cBc|\n",
      "\"D\"d2A ABd|\"G\"g2d e2G|\"Am\"B2A \"D7\"A2G|\"G\"G3 -G2:|\n",
      "P:B\n",
      "|:A|\"G\"BGD \"D7\"G2A|\"G\"BGB dBd|\"C\"efg \"B7\"b2g|\"Em\"gfe \"Am\"dBG|\n",
      "\"D\"DEF AGF|\"G\"GBd g2a|\"G\"g2d \"D7\"c2B|\"G\"G3 -G2:|\n",
      "P:B\n",
      "d|\"G\"dBd gfg|\"C\"e^de g2e|\"F\"dBA \"D7\"ABA|\"G\"G3 G2:|\n",
      "\n"
     ]
    }
   ],
   "source": [
    "ep = int(input(\"1. Which epoch number weight you want to load into the model(10, 20, 30, ..., 90). Small number will generate more errors in music: \"))\n",
    "ar = int(input(\"\\n2. Enter any number between 0 to 86 which will be given as initial charcter to model for generating sequence: \"))\n",
    "ln = int(input(\"\\n3. Enter the length of music sequence you want to generate. Typical number is between 300-600. Too small number will generate hardly generate any sequence: \"))\n",
    "\n",
    "music = generate_sequence(ep, ar, ln)\n",
    "\n",
    "print(\"\\nMUSIC SEQUENCE GENERATED: \\n\")\n",
    "\n",
    "print(music)"
   ]
  }
 ],
 "metadata": {
  "kernelspec": {
   "display_name": "Python 3",
   "language": "python",
   "name": "python3"
  },
  "language_info": {
   "codemirror_mode": {
    "name": "ipython",
    "version": 3
   },
   "file_extension": ".py",
   "mimetype": "text/x-python",
   "name": "python",
   "nbconvert_exporter": "python",
   "pygments_lexer": "ipython3",
   "version": "3.6.5"
  }
 },
 "nbformat": 4,
 "nbformat_minor": 2
}
